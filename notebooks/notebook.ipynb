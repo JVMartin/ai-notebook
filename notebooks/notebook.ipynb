{
  "cells": [
    {
      "cell_type": "code",
      "execution_count": null,
      "metadata": {
        "id": "k9hM83vkDfZ4"
      },
      "outputs": [],
      "source": [
        "#@title Tap\n",
        "%%html\n",
        "<b>Press play on the music player to keep the tab alive, then start the Pygmalion interface below (Uses only 13MB of data)</b><br/>\n",
        "<audio src=\"https://raw.githubusercontent.com/KoboldAI/KoboldAI-Client/main/colab/silence.m4a\" controls>"
      ]
    },
    {
      "cell_type": "code",
      "execution_count": null,
      "metadata": {
        "cellView": "form",
        "id": "hps3qtPLFNBb"
      },
      "outputs": [],
      "source": [
        "Model = \"Pygmalion 6B\"\n",
        "\n",
        "model_name = \"PygmalionAI/pygmalion-6b\"\n",
        "branch_name = \"main\"\n",
        "\n",
        "# Copy-pasted from the Kobold notebook. Seems to be necessary for Henk's script\n",
        "# to work properly.\n",
        "import os\n",
        "if not os.path.exists(\"/content/drive\"):\n",
        "  os.mkdir(\"/content/drive\")\n",
        "if not os.path.exists(\"/content/drive/MyDrive/\"):\n",
        "  os.mkdir(\"/content/drive/MyDrive/\")\n",
        "\n",
        "# Use Henk's easy install code, but pass --init since we'll manually start the\n",
        "# server in the background later.\n",
        "!wget https://koboldai.org/ckds -O - | bash /dev/stdin --init only\n",
        "\n",
        "!git clone --depth=1 \\\n",
        "  \"https://github.com/jvmartin/ai-notebook.git\" \\\n",
        "  && cd ai-notebook && pip3 install -r requirements.txt\n",
        "\n",
        "print(\"\\n\\n\\n\")\n",
        "print(\"* The model is about to be downloaded and loaded into the GPU.\")\n",
        "print(\"* This takes several minutes, sit tight.\")\n",
        "print(\"* A link will show up when this step is completed, keep checking back every couple minutes or so.\")\n",
        "print(\"\\n\\n\\n\")\n",
        "os.system(f\"cd /content/KoboldAI-Client && python3 aiserver.py --noaimenu --host --port 9090 --model {model_name} --revision {branch_name} --nobreakmodel --lowmem --quiet &\")\n",
        "\n",
        "# And start up the UI. It'll wait for Kobold to finish booting up before\n",
        "# printing out its URL.\n",
        "!python3 ai-notebook/src/app.py \\\n",
        "  --koboldai-url \"http://localhost:9090\" \\\n",
        "  --share"
      ]
    }
  ],
  "metadata": {
    "accelerator": "GPU",
    "colab": {
      "provenance": []
    },
    "gpuClass": "standard",
    "kernelspec": {
      "display_name": "Python 3",
      "name": "python3"
    },
    "language_info": {
      "name": "python"
    }
  },
  "nbformat": 4,
  "nbformat_minor": 0
}
